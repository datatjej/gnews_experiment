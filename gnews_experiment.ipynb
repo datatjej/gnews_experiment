{
 "cells": [
  {
   "cell_type": "code",
   "execution_count": 1,
   "metadata": {},
   "outputs": [],
   "source": [
    "import gensim"
   ]
  },
  {
   "cell_type": "code",
   "execution_count": 7,
   "metadata": {},
   "outputs": [],
   "source": [
    "# Path to google news vectors\n",
    "gnews_path = '/home/guserbto@GU.GU.SE/GoogleNews-vectors-negative300.bin.gz'"
   ]
  },
  {
   "cell_type": "code",
   "execution_count": 14,
   "metadata": {},
   "outputs": [],
   "source": [
    "# Load google news vecs in gensim\n",
    "model_1 = gensim.models.KeyedVectors.load_word2vec_format(gnews_path, binary=True)"
   ]
  },
  {
   "cell_type": "code",
   "execution_count": null,
   "metadata": {},
   "outputs": [],
   "source": [
    "# Another way of accessing the dataset using the gensim API\n",
    "import gensim.downloader as api\n",
    "\n",
    "model_2 = api.load(\"word2vec-google-news-300\")  # download the model and return as object ready for use\n",
    "word_vectors = model.wv #load the vectors from the model"
   ]
  },
  {
   "cell_type": "code",
   "execution_count": 35,
   "metadata": {},
   "outputs": [
    {
     "name": "stdout",
     "output_type": "stream",
     "text": [
      "create: \n"
     ]
    },
    {
     "data": {
      "text/plain": [
       "[('creating', 0.8714399933815002),\n",
       " ('created', 0.8472734093666077),\n",
       " ('creates', 0.8301326632499695),\n",
       " ('Creating', 0.8061895370483398),\n",
       " ('generate', 0.8055819272994995),\n",
       " ('develop', 0.8026123642921448),\n",
       " ('creat', 0.7967904806137085),\n",
       " ('Create', 0.7915475964546204)]"
      ]
     },
     "execution_count": 35,
     "metadata": {},
     "output_type": "execute_result"
    }
   ],
   "source": [
    "#print(model_1['city'])\n",
    "#morphologically similar\n",
    "print(\"create: \")\n",
    "model_1.most_similar_cosmul(positive=['create'], negative=None, topn=8)"
   ]
  },
  {
   "cell_type": "code",
   "execution_count": 43,
   "metadata": {},
   "outputs": [
    {
     "name": "stdout",
     "output_type": "stream",
     "text": [
      "good: \n"
     ]
    },
    {
     "data": {
      "text/plain": [
       "[('great', 0.864574670791626),\n",
       " ('bad', 0.8595017194747925),\n",
       " ('terrific', 0.8444549441337585),\n",
       " ('decent', 0.841866672039032),\n",
       " ('nice', 0.8418038487434387),\n",
       " ('excellent', 0.8221457004547119),\n",
       " ('fantastic', 0.82038813829422),\n",
       " ('better', 0.8060356378555298)]"
      ]
     },
     "execution_count": 43,
     "metadata": {},
     "output_type": "execute_result"
    }
   ],
   "source": [
    "print(\"good: \")\n",
    "#synonyms (semantically similar) antyonyms\n",
    "model_1.most_similar_cosmul(positive=['good'], negative=None, topn=8)"
   ]
  },
  {
   "cell_type": "code",
   "execution_count": 37,
   "metadata": {},
   "outputs": [
    {
     "name": "stdout",
     "output_type": "stream",
     "text": [
      "king: \n"
     ]
    },
    {
     "data": {
      "text/plain": [
       "[('kings', 0.8569014668464661),\n",
       " ('queen', 0.8255470395088196),\n",
       " ('monarch', 0.8206589818000793),\n",
       " ('crown_prince', 0.8102102279663086),\n",
       " ('prince', 0.8079988956451416),\n",
       " ('sultan', 0.7932403683662415),\n",
       " ('ruler', 0.7898775935173035),\n",
       " ('princes', 0.782326877117157)]"
      ]
     },
     "execution_count": 37,
     "metadata": {},
     "output_type": "execute_result"
    }
   ],
   "source": [
    "print(\"king: \")\n",
    "# semantically similar\n",
    "model_1.most_similar_cosmul(positive=['king'], negative=None, topn=8)"
   ]
  },
  {
   "cell_type": "code",
   "execution_count": 48,
   "metadata": {},
   "outputs": [
    {
     "name": "stdout",
     "output_type": "stream",
     "text": [
      "stockholm: \n"
     ]
    },
    {
     "data": {
      "text/plain": [
       "[('Stockholm_Sweden', 0.8890222907066345),\n",
       " ('Helsinki', 0.8734732866287231),\n",
       " ('Oslo', 0.8599575757980347),\n",
       " ('Oslo_Norway', 0.8398811221122742),\n",
       " ('Malmö', 0.8281077742576599),\n",
       " ('Gothenburg', 0.8201367259025574),\n",
       " ('Gothenburg_Sweden', 0.818159818649292),\n",
       " ('Sweden', 0.8168489336967468),\n",
       " ('Swedish', 0.8135110139846802),\n",
       " ('Goteborg', 0.8113422989845276)]"
      ]
     },
     "execution_count": 48,
     "metadata": {},
     "output_type": "execute_result"
    }
   ],
   "source": [
    "print(\"stockholm: \")\n",
    "model_1.most_similar_cosmul(positive=['Stockholm'], negative=None, topn=10)"
   ]
  },
  {
   "cell_type": "code",
   "execution_count": 40,
   "metadata": {},
   "outputs": [
    {
     "name": "stdout",
     "output_type": "stream",
     "text": [
      "Gothenburg\n"
     ]
    },
    {
     "data": {
      "text/plain": [
       "[('Göteborg', 0.846114993095398),\n",
       " ('Gothenburg_Sweden', 0.8316976428031921),\n",
       " ('Goteborg', 0.8295955061912537),\n",
       " ('Malmö', 0.8295535445213318),\n",
       " ('Umeå', 0.8293790221214294),\n",
       " ('Uppsala', 0.8225394487380981),\n",
       " ('Stockholm', 0.8201367259025574),\n",
       " ('Stavanger', 0.8142622113227844)]"
      ]
     },
     "execution_count": 40,
     "metadata": {},
     "output_type": "execute_result"
    }
   ],
   "source": [
    "print(\"gothenburg\")\n",
    "model_1.most_similar_cosmul(positive=['Gothenburg'], negative=None, topn=8)"
   ]
  },
  {
   "cell_type": "code",
   "execution_count": 41,
   "metadata": {},
   "outputs": [
    {
     "name": "stdout",
     "output_type": "stream",
     "text": [
      "fail: \n"
     ]
    },
    {
     "data": {
      "text/plain": [
       "[('fails', 0.8472260236740112),\n",
       " ('failed', 0.8085991740226746),\n",
       " ('failure', 0.8068950176239014),\n",
       " ('Failing', 0.7982894778251648),\n",
       " ('failing', 0.7958168387413025),\n",
       " ('Failure', 0.7873561382293701),\n",
       " ('fail_miserably', 0.7826200127601624),\n",
       " ('preventers_known', 0.7772588133811951)]"
      ]
     },
     "execution_count": 41,
     "metadata": {},
     "output_type": "execute_result"
    }
   ],
   "source": [
    "print(\"fail: \")\n",
    "model_1.most_similar_cosmul(positive=['fail'], negative=None, topn=8)"
   ]
  },
  {
   "cell_type": "code",
   "execution_count": 42,
   "metadata": {},
   "outputs": [
    {
     "name": "stdout",
     "output_type": "stream",
     "text": [
      "build: \n"
     ]
    },
    {
     "data": {
      "text/plain": [
       "[('construct', 0.869744062423706),\n",
       " ('develop', 0.8407060503959656),\n",
       " ('built', 0.8261961936950684),\n",
       " ('rebuild', 0.8040902018547058),\n",
       " ('establish', 0.7926814556121826),\n",
       " ('builds', 0.7864388823509216),\n",
       " ('create', 0.784798264503479),\n",
       " ('tobuild', 0.7812302112579346)]"
      ]
     },
     "execution_count": 42,
     "metadata": {},
     "output_type": "execute_result"
    }
   ],
   "source": [
    "print(\"build: \")\n",
    "model_1.most_similar_cosmul(positive=['build'], negative=None, topn=8)"
   ]
  },
  {
   "cell_type": "code",
   "execution_count": 52,
   "metadata": {},
   "outputs": [
    {
     "name": "stdout",
     "output_type": "stream",
     "text": [
      "king - man + woman:\n"
     ]
    },
    {
     "data": {
      "text/plain": [
       "[('queen', 0.9314123392105103),\n",
       " ('monarch', 0.858533501625061),\n",
       " ('princess', 0.8476566076278687),\n",
       " ('Queen_Consort', 0.8150269985198975),\n",
       " ('queens', 0.8099815249443054),\n",
       " ('crown_prince', 0.808997631072998),\n",
       " ('royal_palace', 0.8027306795120239),\n",
       " ('monarchy', 0.801961362361908)]"
      ]
     },
     "execution_count": 52,
     "metadata": {},
     "output_type": "execute_result"
    }
   ],
   "source": [
    "print(\"king - man + woman:\")\n",
    "model_1.most_similar_cosmul(positive=['king', 'woman'], negative=['man'], topn=8)"
   ]
  },
  {
   "cell_type": "code",
   "execution_count": 54,
   "metadata": {},
   "outputs": [
    {
     "name": "stdout",
     "output_type": "stream",
     "text": [
      "Stockholm + Denmark - Copenhagen:\n"
     ]
    },
    {
     "data": {
      "text/plain": [
       "[('Sweden', 1.0473847389221191),\n",
       " ('Swedish', 0.9476658701896667),\n",
       " ('Norway', 0.9454375505447388),\n",
       " ('Finland', 0.9212556481361389),\n",
       " ('Mälardalen', 0.906298041343689),\n",
       " ('Netherlands', 0.904215931892395),\n",
       " ('Stockholm_Sweden', 0.8995987772941589),\n",
       " ('Norrköping', 0.8995790481567383)]"
      ]
     },
     "execution_count": 54,
     "metadata": {},
     "output_type": "execute_result"
    }
   ],
   "source": [
    "print(\"Stockholm + Denmark - Copenhagen:\")\n",
    "model_1.most_similar_cosmul(positive=['Stockholm', 'Denmark'], negative=['Copenhagen'], topn=8)"
   ]
  },
  {
   "cell_type": "code",
   "execution_count": 55,
   "metadata": {},
   "outputs": [
    {
     "name": "stdout",
     "output_type": "stream",
     "text": [
      "green  + weaker - weak:\n"
     ]
    },
    {
     "data": {
      "text/plain": [
       "[('greener', 0.8724981546401978),\n",
       " ('wearin_o', 0.8206705451011658),\n",
       " ('eco_friendly', 0.7905569672584534),\n",
       " ('environmentally_friendly', 0.7854413986206055),\n",
       " ('fluorescent_protein_EGFP', 0.7843028903007507),\n",
       " ('QEII_TJ_Marta', 0.782891571521759),\n",
       " ('greening', 0.7810543179512024),\n",
       " ('parenting_blog_www.mnn.com', 0.7784146070480347)]"
      ]
     },
     "execution_count": 55,
     "metadata": {},
     "output_type": "execute_result"
    }
   ],
   "source": [
    "print(\"green  + weaker - weak:\")\n",
    "model_1.most_similar_cosmul(positive=['green', 'weaker'], negative=['weak'], topn=8)"
   ]
  },
  {
   "cell_type": "code",
   "execution_count": 60,
   "metadata": {},
   "outputs": [
    {
     "name": "stdout",
     "output_type": "stream",
     "text": [
      "fail  + written - write:\n"
     ]
    },
    {
     "data": {
      "text/plain": [
       "[('failed', 0.8626201748847961),\n",
       " ('fails', 0.8501989245414734),\n",
       " ('failing', 0.8228620290756226),\n",
       " ('failure', 0.8184010982513428),\n",
       " ('Failure', 0.7878099083900452),\n",
       " ('Failing', 0.7814922332763672),\n",
       " ('signally_failed', 0.7806936502456665),\n",
       " ('doomed', 0.7678720355033875)]"
      ]
     },
     "execution_count": 60,
     "metadata": {},
     "output_type": "execute_result"
    }
   ],
   "source": [
    "print(\"fail  + written - write:\")\n",
    "model_1.most_similar_cosmul(positive=['fail', 'written'], negative=['write'], topn=8)"
   ]
  },
  {
   "cell_type": "code",
   "execution_count": 61,
   "metadata": {},
   "outputs": [
    {
     "name": "stdout",
     "output_type": "stream",
     "text": [
      "high  + smallest - small:\n"
     ]
    },
    {
     "data": {
      "text/plain": [
       "[('highest', 1.0553725957870483),\n",
       " ('lowest', 1.028092622756958),\n",
       " ('higest', 0.905768871307373),\n",
       " ('weakest', 0.8257075548171997),\n",
       " ('Highest', 0.8226103186607361),\n",
       " ('surpassing', 0.8182895183563232),\n",
       " ('low', 0.8121053576469421),\n",
       " ('thehighest', 0.8065165877342224)]"
      ]
     },
     "execution_count": 61,
     "metadata": {},
     "output_type": "execute_result"
    }
   ],
   "source": [
    "print(\"high  + smallest - small:\")\n",
    "model_1.most_similar_cosmul(positive=['high', 'smallest'], negative=['small'], topn=8)"
   ]
  },
  {
   "cell_type": "code",
   "execution_count": 63,
   "metadata": {},
   "outputs": [
    {
     "name": "stdout",
     "output_type": "stream",
     "text": [
      "build  + bad - good:\n"
     ]
    },
    {
     "data": {
      "text/plain": [
       "[('construct', 0.8153287172317505),\n",
       " ('rebuild', 0.7816996574401855),\n",
       " ('demolish', 0.7598727345466614),\n",
       " ('develop', 0.7539347410202026),\n",
       " ('reconstruct', 0.7519047856330872),\n",
       " ('Build', 0.7505134344100952),\n",
       " ('raze', 0.7497583627700806),\n",
       " ('destroy', 0.7460041642189026)]"
      ]
     },
     "execution_count": 63,
     "metadata": {},
     "output_type": "execute_result"
    }
   ],
   "source": [
    "print(\"build  + bad - good:\")\n",
    "model_1.most_similar_cosmul(positive=['build', 'bad'], negative=['good'], topn=8)"
   ]
  },
  {
   "cell_type": "code",
   "execution_count": 65,
   "metadata": {},
   "outputs": [
    {
     "name": "stdout",
     "output_type": "stream",
     "text": [
      "Germany + river:\n"
     ]
    },
    {
     "data": {
      "text/plain": [
       "[('Elbe_river', 0.540955126285553),\n",
       " ('Rhine_River', 0.5269306898117065),\n",
       " ('river_Elbe', 0.5148370862007141),\n",
       " ('Neisse', 0.5114045739173889),\n",
       " ('Harz_mountains', 0.5047052502632141),\n",
       " ('Elbe_River', 0.49859142303466797),\n",
       " ('Danube_river', 0.48261645436286926),\n",
       " ('Limmat', 0.4801957607269287)]"
      ]
     },
     "execution_count": 65,
     "metadata": {},
     "output_type": "execute_result"
    }
   ],
   "source": [
    "print(\"Germany + river:\")\n",
    "model_1.most_similar_cosmul(positive=['Germany', 'river'], negative=None, topn=8)"
   ]
  },
  {
   "cell_type": "code",
   "execution_count": 66,
   "metadata": {},
   "outputs": [
    {
     "name": "stdout",
     "output_type": "stream",
     "text": [
      "Sweden + captial:\n"
     ]
    },
    {
     "data": {
      "text/plain": [
       "[('Finland', 0.5014999508857727),\n",
       " ('Stockholm', 0.4937177896499634),\n",
       " ('Denmark', 0.49282705783843994),\n",
       " ('Stockholm_Goteborg', 0.4925467073917389),\n",
       " ('Rasunda_stadium', 0.4906637966632843),\n",
       " ('Goteburg', 0.4889424741268158),\n",
       " ('Norrkoping', 0.48859748244285583),\n",
       " ('Bjorkdal_Gold_Mine', 0.4873029887676239)]"
      ]
     },
     "execution_count": 66,
     "metadata": {},
     "output_type": "execute_result"
    }
   ],
   "source": [
    "print(\"Sweden + captial:\")\n",
    "model_1.most_similar_cosmul(positive=['Sweden', 'captial'], negative=None, topn=8)"
   ]
  },
  {
   "cell_type": "code",
   "execution_count": null,
   "metadata": {},
   "outputs": [],
   "source": []
  }
 ],
 "metadata": {
  "kernelspec": {
   "display_name": "Python 3",
   "language": "python",
   "name": "python3"
  },
  "language_info": {
   "codemirror_mode": {
    "name": "ipython",
    "version": 3
   },
   "file_extension": ".py",
   "mimetype": "text/x-python",
   "name": "python",
   "nbconvert_exporter": "python",
   "pygments_lexer": "ipython3",
   "version": "3.7.4"
  }
 },
 "nbformat": 4,
 "nbformat_minor": 2
}
