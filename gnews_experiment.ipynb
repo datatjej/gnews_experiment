{
 "cells": [
  {
   "cell_type": "code",
   "execution_count": 1,
   "metadata": {},
   "outputs": [],
   "source": [
    "import gensim"
   ]
  },
  {
   "cell_type": "code",
   "execution_count": 7,
   "metadata": {},
   "outputs": [],
   "source": [
    "# Path to google news vectors\n",
    "gnews_path = '/home/guserbto@GU.GU.SE/GoogleNews-vectors-negative300.bin.gz'"
   ]
  },
  {
   "cell_type": "code",
   "execution_count": 14,
   "metadata": {},
   "outputs": [],
   "source": [
    "# Load google news vecs in gensim\n",
    "model_1 = gensim.models.KeyedVectors.load_word2vec_format(gnews_path, binary=True)"
   ]
  },
  {
   "cell_type": "code",
   "execution_count": null,
   "metadata": {},
   "outputs": [],
   "source": [
    "# Another way of accessing the dataset using the gensim API\n",
    "import gensim.downloader as api\n",
    "\n",
    "model_2 = api.load(\"word2vec-google-news-300\")  # download the model and return as object ready for use\n",
    "word_vectors = model.wv #load the vectors from the model"
   ]
  },
  {
   "cell_type": "code",
   "execution_count": 35,
   "metadata": {},
   "outputs": [
    {
     "name": "stdout",
     "output_type": "stream",
     "text": [
      "create: \n"
     ]
    },
    {
     "data": {
      "text/plain": [
       "[('creating', 0.8714399933815002),\n",
       " ('created', 0.8472734093666077),\n",
       " ('creates', 0.8301326632499695),\n",
       " ('Creating', 0.8061895370483398),\n",
       " ('generate', 0.8055819272994995),\n",
       " ('develop', 0.8026123642921448),\n",
       " ('creat', 0.7967904806137085),\n",
       " ('Create', 0.7915475964546204)]"
      ]
     },
     "execution_count": 35,
     "metadata": {},
     "output_type": "execute_result"
    }
   ],
   "source": [
    "#print(model_1['city'])\n",
    "#morphologically similar\n",
    "print(\"create: \")\n",
    "model_1.most_similar_cosmul(positive=['create'], negative=None, topn=8)"
   ]
  },
  {
   "cell_type": "code",
   "execution_count": 43,
   "metadata": {},
   "outputs": [
    {
     "name": "stdout",
     "output_type": "stream",
     "text": [
      "good: \n"
     ]
    },
    {
     "data": {
      "text/plain": [
       "[('great', 0.864574670791626),\n",
       " ('bad', 0.8595017194747925),\n",
       " ('terrific', 0.8444549441337585),\n",
       " ('decent', 0.841866672039032),\n",
       " ('nice', 0.8418038487434387),\n",
       " ('excellent', 0.8221457004547119),\n",
       " ('fantastic', 0.82038813829422),\n",
       " ('better', 0.8060356378555298)]"
      ]
     },
     "execution_count": 43,
     "metadata": {},
     "output_type": "execute_result"
    }
   ],
   "source": [
    "print(\"good: \")\n",
    "#synonyms (semantically similar) antyonyms\n",
    "model_1.most_similar_cosmul(positive=['good'], negative=None, topn=8)"
   ]
  },
  {
   "cell_type": "code",
   "execution_count": 37,
   "metadata": {},
   "outputs": [
    {
     "name": "stdout",
     "output_type": "stream",
     "text": [
      "king: \n"
     ]
    },
    {
     "data": {
      "text/plain": [
       "[('kings', 0.8569014668464661),\n",
       " ('queen', 0.8255470395088196),\n",
       " ('monarch', 0.8206589818000793),\n",
       " ('crown_prince', 0.8102102279663086),\n",
       " ('prince', 0.8079988956451416),\n",
       " ('sultan', 0.7932403683662415),\n",
       " ('ruler', 0.7898775935173035),\n",
       " ('princes', 0.782326877117157)]"
      ]
     },
     "execution_count": 37,
     "metadata": {},
     "output_type": "execute_result"
    }
   ],
   "source": [
    "print(\"king: \")\n",
    "# semantically similar\n",
    "model_1.most_similar_cosmul(positive=['king'], negative=None, topn=8)"
   ]
  },
  {
   "cell_type": "code",
   "execution_count": 47,
   "metadata": {},
   "outputs": [
    {
     "name": "stdout",
     "output_type": "stream",
     "text": [
      "Stockholm: \n"
     ]
    },
    {
     "data": {
      "text/plain": [
       "[('Stockholm_Sweden', 0.8890222907066345),\n",
       " ('Helsinki', 0.8734732866287231),\n",
       " ('Oslo', 0.8599575757980347),\n",
       " ('Oslo_Norway', 0.8398811221122742),\n",
       " ('Malmö', 0.8281077742576599),\n",
       " ('Gothenburg', 0.8201367259025574),\n",
       " ('Gothenburg_Sweden', 0.818159818649292),\n",
       " ('Sweden', 0.8168489336967468),\n",
       " ('Swedish', 0.8135110139846802),\n",
       " ('Goteborg', 0.8113422989845276)]"
      ]
     },
     "execution_count": 47,
     "metadata": {},
     "output_type": "execute_result"
    }
   ],
   "source": [
    "print(\"Stockholm: \")\n",
    "model_1.most_similar_cosmul(positive=['Stockholm'], negative=None, topn=10)"
   ]
  },
  {
   "cell_type": "code",
   "execution_count": 40,
   "metadata": {},
   "outputs": [
    {
     "name": "stdout",
     "output_type": "stream",
     "text": [
      "Gothenburg\n"
     ]
    },
    {
     "data": {
      "text/plain": [
       "[('Göteborg', 0.846114993095398),\n",
       " ('Gothenburg_Sweden', 0.8316976428031921),\n",
       " ('Goteborg', 0.8295955061912537),\n",
       " ('Malmö', 0.8295535445213318),\n",
       " ('Umeå', 0.8293790221214294),\n",
       " ('Uppsala', 0.8225394487380981),\n",
       " ('Stockholm', 0.8201367259025574),\n",
       " ('Stavanger', 0.8142622113227844)]"
      ]
     },
     "execution_count": 40,
     "metadata": {},
     "output_type": "execute_result"
    }
   ],
   "source": [
    "print(\"gothenburg\")\n",
    "model_1.most_similar_cosmul(positive=['Gothenburg'], negative=None, topn=8)"
   ]
  },
  {
   "cell_type": "code",
   "execution_count": 41,
   "metadata": {},
   "outputs": [
    {
     "name": "stdout",
     "output_type": "stream",
     "text": [
      "fail: \n"
     ]
    },
    {
     "data": {
      "text/plain": [
       "[('fails', 0.8472260236740112),\n",
       " ('failed', 0.8085991740226746),\n",
       " ('failure', 0.8068950176239014),\n",
       " ('Failing', 0.7982894778251648),\n",
       " ('failing', 0.7958168387413025),\n",
       " ('Failure', 0.7873561382293701),\n",
       " ('fail_miserably', 0.7826200127601624),\n",
       " ('preventers_known', 0.7772588133811951)]"
      ]
     },
     "execution_count": 41,
     "metadata": {},
     "output_type": "execute_result"
    }
   ],
   "source": [
    "print(\"fail: \")\n",
    "model_1.most_similar_cosmul(positive=['fail'], negative=None, topn=8)"
   ]
  },
  {
   "cell_type": "code",
   "execution_count": 42,
   "metadata": {},
   "outputs": [
    {
     "name": "stdout",
     "output_type": "stream",
     "text": [
      "build: \n"
     ]
    },
    {
     "data": {
      "text/plain": [
       "[('construct', 0.869744062423706),\n",
       " ('develop', 0.8407060503959656),\n",
       " ('built', 0.8261961936950684),\n",
       " ('rebuild', 0.8040902018547058),\n",
       " ('establish', 0.7926814556121826),\n",
       " ('builds', 0.7864388823509216),\n",
       " ('create', 0.784798264503479),\n",
       " ('tobuild', 0.7812302112579346)]"
      ]
     },
     "execution_count": 42,
     "metadata": {},
     "output_type": "execute_result"
    }
   ],
   "source": [
    "print(\"build: \")\n",
    "model_1.most_similar_cosmul(positive=['build'], negative=None, topn=8)"
   ]
  },
  {
   "cell_type": "code",
   "execution_count": null,
   "metadata": {},
   "outputs": [],
   "source": [
    "print(\"king - man + woman:\")\n",
    "model_1.most_similar_cosmul(positive=['king'], ['woman'], negative=['man'], topn=8)"
   ]
  }
 ],
 "metadata": {
  "kernelspec": {
   "display_name": "Python 3",
   "language": "python",
   "name": "python3"
  },
  "language_info": {
   "codemirror_mode": {
    "name": "ipython",
    "version": 3
   },
   "file_extension": ".py",
   "mimetype": "text/x-python",
   "name": "python",
   "nbconvert_exporter": "python",
   "pygments_lexer": "ipython3",
   "version": "3.7.4"
  }
 },
 "nbformat": 4,
 "nbformat_minor": 2
}
